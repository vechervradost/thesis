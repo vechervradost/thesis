{
 "cells": [
  {
   "cell_type": "code",
   "execution_count": 31,
   "id": "e55fc6af",
   "metadata": {},
   "outputs": [
    {
     "name": "stdout",
     "output_type": "stream",
     "text": [
      "Введите текст: Subscribe to newsletters Subscribe Sign In  AI 50 2022  AI 50 2022: North America’s Top AI Companies Shaping The Future AI 50 Methodology: How We Selected Our Honorees The $2 Billion Emoji: Hugging Face Wants To Be Launchpad For A Machine Learning Revolution With A $120 Million War Chest, Brightseed Is Unlocking The Fat-Fighting Power Of Hemp AI Upstart Waabi Adding Self-Driving Veterans In Race To Commercialize Robot Trucks Explaining The Art Behind The Forbes AI 50 Design  Mukul Dhankar (left) and Abhinai Srivastava (Right)  standing side by side. INNOVATION EDITORS' PICK Mashgin Hits $1.5 Billion Valuation With AI-Powered Self-Checkout System Mukul Dhankar (left) and Abhinai Srivastava (Right) created AI-empowered self checkout technology Ma... [+] MASHGIN  Mashgin’s computer vision AI self checkout can scan multiple packaged products as well as food items in a matter of seconds. The company’s smart kiosks are helping retailers confront a national labor shortage. By Rashi Shrivastava M  ukul Dhankar and Abhinai Srivastava are in the business of reducing long lines. As the cofounders of AI-based touchless self-checkout startup Mashgin, they’re especially interested in helping busy retailers at places like airports and stadiums by scanning multiple items in a matter of seconds.  Mashgin, an acronym for “​​mash-up of general intelligence,” builds smart kiosks that offer self-checkouts in more than 1000 locations, no barcode or scanning required. The easy-to-install countertop system, includes multiple cameras that build a three-dimensional understanding of objects, regardless of item or placement of packaging. Mashgin’s computer vision AI can identify packaged products as well as food on a plate enabling customers at retail stores, stadium concessions and cafeterias to pay-and-go up to 10 times faster than at a traditional cashier.  “We understand that 75% of retail is still offline,” says CEO Srivastava, whose company also offers custom tablets and mobile-based order systems. “When retailers use our technology, in many cases the sales go up by a huge margin just because there are no lines anymore.”  Mashgin, in tandem with its first appearance on the Forbes AI 50 list, announced a $62.5 million series-B funding round on Monday. Led by global VC firm NEA, this round notches up the company’s valuation to $1.5 billion. The profitable company has raised $75 million to date and earned roughly $14 million in revenue in 2021. With the fresh flow of funding, Mashgin plans to expand its team of 20 employees and grow its business in Europe.  Launched in 2013, Mashgin was perfecting its AI technology seven years before the pandemic accelerated retailer adoption of cashier-less checkout. Founders Dhankar and Srivastava first met at the Indian Institute of Technology Delhi, where they lived in the same dorm. They graduated, and followed separate career paths, but met again in Silicon Valley and began work on their startup idea.  “I remember the day Mukul created a simple demo with a table lamp and a webcam,” remembers Srivastava. That was nine years ago. While they thought creating the tech would be a six-month project, it took them five years to develop the technology in a cost-effective way.  “We understand that 75% of retail is still offline. When retailers use our technology, in many cases the sales go up by a huge margin just because there are no lines anymore.”  Abhinai Srivastava, CEO Mashgin “Mukul and I drove to a convenience store in the middle of July, stood there for two weeks, and took 20 to 40 pictures of every single item in the store,” says Jack Hogan, senior vice president at Mashgin about how they initially built a database of 20,0000 images to train their algorithm. To date, 35 million transactions have taken place on Mashgin kiosks, and each transaction adds more images to the algorithm, making it stronger.  Dhankar, who came up with the idea for the quick and easy checkout system while waiting in line at a cafeteria, says the system is now more than 99% accurate. “It gets exponentially harder as you get towards the 95% goal,” he says.  Nearly a decade later, Mashgin competes in an increasingly crowded market. Artificial intelligence and computer vision technology have perforated every aspect of the modern-day retail experience: from H&M’s voice-activated smart mirrors that allow shoppers to take selfies to Amazon’s smart grocery carts that use computer vision to scan items and pay through the cart itself.  Smart checkout technology is expected to be a roughly $400 billion business by 2025, according to Juniper Research. In 2021, Instacart acquired checkout tech platform Caper AI. Other AI startups in the same category such as Tel Aviv-based Trigo and Shopic have pocketed large amounts of VC funding amid the frenzy. This in turn has kindled concerns about how smart checkouts run the risk of displacing workers, most of whom are women.  But the founders say they are meeting the needs of a nationwide labor shortage rather than reducing jobs. According to a study by S&P global, 6.3 million retail workers quit their jobs in the first ten months of 2021. Technologies like Mashgin in turn help employees by relieving the pressures on understaffed retailers, Srivastava says. “Many of our customers are actively trying to fill thousands of open positions. Mashgin helps their employees focus on the things you can’t do with automation,” he says.  Mashgin charges approximately $1000 per machine per month, while the cost of production is lower than competitors. The hardware is produced in California, instead of being imported from other countries. “We actually use really inexpensive cameras commodity hardware, We can deploy a site in 15 minutes and very cheap,” Srivastava says. To be more inclusive of the unbanked and areas with poor connectivity, Mashgin’s checkout systems accept cash and can function without the internet.  The company’s kiosks can be found in Madison Square Garden in New York and Arrowhead Stadium in Kansas City, among other major arenas. You’ll also find them in major airports as well as Delek US convenience stores in Texas. The Palo Alto-based company is the self-checkout tech choice for Compass Group, the largest contract foodservice company in the world.   MORE FROM AI 50 2022 MORE FROM FORBES AI 50 2022: North America's Top AI Companies Shaping The Future By Helen A. S. Popkin MORE FROM FORBES The $2 Billion Emoji: Hugging Face Wants To Be Launchpad For A Machine Learning Revolution By Kenrick Cai MORE FROM FORBES AI Upstart Waabi Adding Self-Driving Veterans In Race To Commercialize Robot Trucks By Alan Ohnsman MORE FROM FORBES Mashgin Hits $1.5 Billion Valuation With AI-Powered Self-Checkout System By Rashi Shrivastava Follow me on Twitter or LinkedIn. Send me a secure tip.  Rashi Shrivastava Rashi Shrivastava Follow I am a general assignment reporter covering technology with a focus in consumer tech. I graduated from the Missouri School of Journalism with a master's degree in magazine journalism... Read More  Editorial Standards Print Reprints & Permissions 2 of 4 free articles  Memorial Day Sale! Save 50% on trusted journalism, access to premium live event content and more. Subscribe Now\n",
      "0 0 0 1 1 0 1 2 0 0 0 2 0 0 0 0 0 1 0 3 0 1 0 0 20 1 0 0 "
     ]
    }
   ],
   "source": [
    "text = input(\"Введите текст: \")\n",
    "words_to_count = [\"community\", \"collaborative\", \"brand\", \"team\", \"pressure\", \"values\", \"mission\", \n",
    "                  \"customer\", \"online\", \"commerce\",\n",
    "                  \"growth\", \"global\", \"strategy\", \"future\", \"optimization\",\n",
    "                  \"education\", \"knowledge\", \"experience\", \"creative\", \n",
    "                  \"understand\", \"responsible\", \"free\", \"quality\", \"implement\",\n",
    "                 \"AI\", \"data\", \"research\", \"efficiency\"]  # Список слов для подсчета\n",
    "word_counts = {}\n",
    "\n",
    "# Итерируемся по словам для подсчета\n",
    "for word in words_to_count:\n",
    "    count = text.count(word) # Метод count считает, сколько раз данное слово встречается в строке\n",
    "    word_counts[word] = count\n",
    "\n",
    "# Вывод результатов\n",
    "for word, count in word_counts.items():\n",
    "    print(f\"{count}\", end=' ')"
   ]
  },
  {
   "cell_type": "code",
   "execution_count": null,
   "id": "77ea4880",
   "metadata": {},
   "outputs": [],
   "source": []
  }
 ],
 "metadata": {
  "kernelspec": {
   "display_name": "Python 3 (ipykernel)",
   "language": "python",
   "name": "python3"
  },
  "language_info": {
   "codemirror_mode": {
    "name": "ipython",
    "version": 3
   },
   "file_extension": ".py",
   "mimetype": "text/x-python",
   "name": "python",
   "nbconvert_exporter": "python",
   "pygments_lexer": "ipython3",
   "version": "3.9.13"
  }
 },
 "nbformat": 4,
 "nbformat_minor": 5
}
